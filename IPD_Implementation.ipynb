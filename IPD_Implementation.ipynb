{
  "metadata": {
    "kernelspec": {
      "language": "python",
      "display_name": "Python 3",
      "name": "python3"
    },
    "language_info": {
      "pygments_lexer": "ipython3",
      "nbconvert_exporter": "python",
      "version": "3.6.4",
      "file_extension": ".py",
      "codemirror_mode": {
        "name": "ipython",
        "version": 3
      },
      "name": "python",
      "mimetype": "text/x-python"
    },
    "colab": {
      "provenance": [],
      "collapsed_sections": [
        "17WeBdD7clzi",
        "U3SWQ34Gclzj"
      ]
    }
  },
  "nbformat_minor": 0,
  "nbformat": 4,
  "cells": [
    {
      "cell_type": "markdown",
      "source": [
        "**INTELLIGENT CROP RECOMMENDER**"
      ],
      "metadata": {
        "id": "cKaNqhNHTWzL"
      }
    },
    {
      "cell_type": "markdown",
      "source": [
        "### Data fields\n",
        "\n",
        "N - ratio of Nitrogen content in soil -  kg/ha<br>\n",
        "P - ratio of Phosphorous content in soil - kg/ha  <br>\n",
        "K - ratio of Potassium content in soil - kg/ha  <br>\n",
        "temperature - temperature in degree Celsius <br>\n",
        "humidity - relative humidity in % <br>\n",
        "ph - ph value of the soil <br>\n",
        "rainfall - rainfall in mm <br>"
      ],
      "metadata": {
        "id": "cv-V4EbNclzH"
      }
    },
    {
      "cell_type": "markdown",
      "source": [
        "###<h1 style='color:blue'>Import libraries</h1>"
      ],
      "metadata": {
        "id": "n02OEm3qclzN"
      }
    },
    {
      "cell_type": "code",
      "source": [
        "import pandas as pd\n",
        "import numpy as np\n",
        "import random\n",
        "\n",
        "import matplotlib.pyplot as plt\n",
        "import seaborn as sns\n",
        "\n",
        "import plotly.graph_objects as go\n",
        "import plotly.express as px\n",
        "from plotly.subplots import make_subplots\n",
        "\n",
        "colorarr = ['#0592D0','#Cd7f32', '#E97451', '#Bdb76b', '#954535', '#C2b280', '#808000','#C2b280', '#E4d008', '#9acd32', '#Eedc82', '#E4d96f',\n",
        "           '#32cd32','#39ff14','#00ff7f', '#008080', '#36454f', '#F88379', '#Ff4500', '#Ffb347', '#A94064', '#E75480', '#Ffb6c1', '#E5e4e2',\n",
        "           '#Faf0e6', '#8c92ac', '#Dbd7d2','#A7a6ba', '#B38b6d']"
      ],
      "metadata": {
        "_uuid": "8f2839f25d086af736a60e9eeb907d3b93b6e0e5",
        "_cell_guid": "b1076dfc-b9ad-4769-8c92-a6c4dae69d19",
        "execution": {
          "iopub.status.busy": "2021-10-03T08:53:01.309142Z",
          "iopub.execute_input": "2021-10-03T08:53:01.31024Z",
          "iopub.status.idle": "2021-10-03T08:53:03.979382Z",
          "shell.execute_reply.started": "2021-10-03T08:53:01.310084Z",
          "shell.execute_reply": "2021-10-03T08:53:03.978318Z"
        },
        "trusted": true,
        "id": "yeh-YpJ2clzO"
      },
      "execution_count": null,
      "outputs": []
    },
    {
      "cell_type": "markdown",
      "source": [
        "###<h1 style='color:blue'>Import dataset</h1>"
      ],
      "metadata": {
        "id": "iAfTfQQ2clzQ"
      }
    },
    {
      "cell_type": "code",
      "source": [
        "from google.colab import drive\n",
        "drive.mount('/content/drive')"
      ],
      "metadata": {
        "id": "H8QtLF53LPUe",
        "colab": {
          "base_uri": "https://localhost:8080/"
        },
        "outputId": "ae3138d7-6bc4-428c-d288-d58e09030180"
      },
      "execution_count": null,
      "outputs": [
        {
          "output_type": "stream",
          "name": "stdout",
          "text": [
            "Mounted at /content/drive\n"
          ]
        }
      ]
    },
    {
      "cell_type": "code",
      "source": [
        "cropdf = pd.read_csv(\"/content/drive/MyDrive/IPD/Crop_recommendation.csv\")\n",
        "cropdf"
      ],
      "metadata": {
        "execution": {
          "iopub.status.busy": "2021-10-03T08:53:03.981458Z",
          "iopub.execute_input": "2021-10-03T08:53:03.981697Z",
          "iopub.status.idle": "2021-10-03T08:53:04.024307Z",
          "shell.execute_reply.started": "2021-10-03T08:53:03.981668Z",
          "shell.execute_reply": "2021-10-03T08:53:04.023373Z"
        },
        "trusted": true,
        "id": "4WDHFyanclzR",
        "colab": {
          "base_uri": "https://localhost:8080/",
          "height": 328
        },
        "outputId": "f35bd19b-a725-40fa-d6e4-99d43fa47a07"
      },
      "execution_count": null,
      "outputs": [
        {
          "output_type": "error",
          "ename": "FileNotFoundError",
          "evalue": "ignored",
          "traceback": [
            "\u001b[0;31m---------------------------------------------------------------------------\u001b[0m",
            "\u001b[0;31mFileNotFoundError\u001b[0m                         Traceback (most recent call last)",
            "\u001b[0;32m<ipython-input-3-c90beebb9d4c>\u001b[0m in \u001b[0;36m<module>\u001b[0;34m\u001b[0m\n\u001b[0;32m----> 1\u001b[0;31m \u001b[0mcropdf\u001b[0m \u001b[0;34m=\u001b[0m \u001b[0mpd\u001b[0m\u001b[0;34m.\u001b[0m\u001b[0mread_csv\u001b[0m\u001b[0;34m(\u001b[0m\u001b[0;34m\"/content/drive/MyDrive/IPD/Crop_recommendation.csv\"\u001b[0m\u001b[0;34m)\u001b[0m\u001b[0;34m\u001b[0m\u001b[0;34m\u001b[0m\u001b[0m\n\u001b[0m\u001b[1;32m      2\u001b[0m \u001b[0mcropdf\u001b[0m\u001b[0;34m\u001b[0m\u001b[0;34m\u001b[0m\u001b[0m\n",
            "\u001b[0;32m/usr/local/lib/python3.8/dist-packages/pandas/util/_decorators.py\u001b[0m in \u001b[0;36mwrapper\u001b[0;34m(*args, **kwargs)\u001b[0m\n\u001b[1;32m    309\u001b[0m                     \u001b[0mstacklevel\u001b[0m\u001b[0;34m=\u001b[0m\u001b[0mstacklevel\u001b[0m\u001b[0;34m,\u001b[0m\u001b[0;34m\u001b[0m\u001b[0;34m\u001b[0m\u001b[0m\n\u001b[1;32m    310\u001b[0m                 )\n\u001b[0;32m--> 311\u001b[0;31m             \u001b[0;32mreturn\u001b[0m \u001b[0mfunc\u001b[0m\u001b[0;34m(\u001b[0m\u001b[0;34m*\u001b[0m\u001b[0margs\u001b[0m\u001b[0;34m,\u001b[0m \u001b[0;34m**\u001b[0m\u001b[0mkwargs\u001b[0m\u001b[0;34m)\u001b[0m\u001b[0;34m\u001b[0m\u001b[0;34m\u001b[0m\u001b[0m\n\u001b[0m\u001b[1;32m    312\u001b[0m \u001b[0;34m\u001b[0m\u001b[0m\n\u001b[1;32m    313\u001b[0m         \u001b[0;32mreturn\u001b[0m \u001b[0mwrapper\u001b[0m\u001b[0;34m\u001b[0m\u001b[0;34m\u001b[0m\u001b[0m\n",
            "\u001b[0;32m/usr/local/lib/python3.8/dist-packages/pandas/io/parsers/readers.py\u001b[0m in \u001b[0;36mread_csv\u001b[0;34m(filepath_or_buffer, sep, delimiter, header, names, index_col, usecols, squeeze, prefix, mangle_dupe_cols, dtype, engine, converters, true_values, false_values, skipinitialspace, skiprows, skipfooter, nrows, na_values, keep_default_na, na_filter, verbose, skip_blank_lines, parse_dates, infer_datetime_format, keep_date_col, date_parser, dayfirst, cache_dates, iterator, chunksize, compression, thousands, decimal, lineterminator, quotechar, quoting, doublequote, escapechar, comment, encoding, encoding_errors, dialect, error_bad_lines, warn_bad_lines, on_bad_lines, delim_whitespace, low_memory, memory_map, float_precision, storage_options)\u001b[0m\n\u001b[1;32m    584\u001b[0m     \u001b[0mkwds\u001b[0m\u001b[0;34m.\u001b[0m\u001b[0mupdate\u001b[0m\u001b[0;34m(\u001b[0m\u001b[0mkwds_defaults\u001b[0m\u001b[0;34m)\u001b[0m\u001b[0;34m\u001b[0m\u001b[0;34m\u001b[0m\u001b[0m\n\u001b[1;32m    585\u001b[0m \u001b[0;34m\u001b[0m\u001b[0m\n\u001b[0;32m--> 586\u001b[0;31m     \u001b[0;32mreturn\u001b[0m \u001b[0m_read\u001b[0m\u001b[0;34m(\u001b[0m\u001b[0mfilepath_or_buffer\u001b[0m\u001b[0;34m,\u001b[0m \u001b[0mkwds\u001b[0m\u001b[0;34m)\u001b[0m\u001b[0;34m\u001b[0m\u001b[0;34m\u001b[0m\u001b[0m\n\u001b[0m\u001b[1;32m    587\u001b[0m \u001b[0;34m\u001b[0m\u001b[0m\n\u001b[1;32m    588\u001b[0m \u001b[0;34m\u001b[0m\u001b[0m\n",
            "\u001b[0;32m/usr/local/lib/python3.8/dist-packages/pandas/io/parsers/readers.py\u001b[0m in \u001b[0;36m_read\u001b[0;34m(filepath_or_buffer, kwds)\u001b[0m\n\u001b[1;32m    480\u001b[0m \u001b[0;34m\u001b[0m\u001b[0m\n\u001b[1;32m    481\u001b[0m     \u001b[0;31m# Create the parser.\u001b[0m\u001b[0;34m\u001b[0m\u001b[0;34m\u001b[0m\u001b[0;34m\u001b[0m\u001b[0m\n\u001b[0;32m--> 482\u001b[0;31m     \u001b[0mparser\u001b[0m \u001b[0;34m=\u001b[0m \u001b[0mTextFileReader\u001b[0m\u001b[0;34m(\u001b[0m\u001b[0mfilepath_or_buffer\u001b[0m\u001b[0;34m,\u001b[0m \u001b[0;34m**\u001b[0m\u001b[0mkwds\u001b[0m\u001b[0;34m)\u001b[0m\u001b[0;34m\u001b[0m\u001b[0;34m\u001b[0m\u001b[0m\n\u001b[0m\u001b[1;32m    483\u001b[0m \u001b[0;34m\u001b[0m\u001b[0m\n\u001b[1;32m    484\u001b[0m     \u001b[0;32mif\u001b[0m \u001b[0mchunksize\u001b[0m \u001b[0;32mor\u001b[0m \u001b[0miterator\u001b[0m\u001b[0;34m:\u001b[0m\u001b[0;34m\u001b[0m\u001b[0;34m\u001b[0m\u001b[0m\n",
            "\u001b[0;32m/usr/local/lib/python3.8/dist-packages/pandas/io/parsers/readers.py\u001b[0m in \u001b[0;36m__init__\u001b[0;34m(self, f, engine, **kwds)\u001b[0m\n\u001b[1;32m    809\u001b[0m             \u001b[0mself\u001b[0m\u001b[0;34m.\u001b[0m\u001b[0moptions\u001b[0m\u001b[0;34m[\u001b[0m\u001b[0;34m\"has_index_names\"\u001b[0m\u001b[0;34m]\u001b[0m \u001b[0;34m=\u001b[0m \u001b[0mkwds\u001b[0m\u001b[0;34m[\u001b[0m\u001b[0;34m\"has_index_names\"\u001b[0m\u001b[0;34m]\u001b[0m\u001b[0;34m\u001b[0m\u001b[0;34m\u001b[0m\u001b[0m\n\u001b[1;32m    810\u001b[0m \u001b[0;34m\u001b[0m\u001b[0m\n\u001b[0;32m--> 811\u001b[0;31m         \u001b[0mself\u001b[0m\u001b[0;34m.\u001b[0m\u001b[0m_engine\u001b[0m \u001b[0;34m=\u001b[0m \u001b[0mself\u001b[0m\u001b[0;34m.\u001b[0m\u001b[0m_make_engine\u001b[0m\u001b[0;34m(\u001b[0m\u001b[0mself\u001b[0m\u001b[0;34m.\u001b[0m\u001b[0mengine\u001b[0m\u001b[0;34m)\u001b[0m\u001b[0;34m\u001b[0m\u001b[0;34m\u001b[0m\u001b[0m\n\u001b[0m\u001b[1;32m    812\u001b[0m \u001b[0;34m\u001b[0m\u001b[0m\n\u001b[1;32m    813\u001b[0m     \u001b[0;32mdef\u001b[0m \u001b[0mclose\u001b[0m\u001b[0;34m(\u001b[0m\u001b[0mself\u001b[0m\u001b[0;34m)\u001b[0m\u001b[0;34m:\u001b[0m\u001b[0;34m\u001b[0m\u001b[0;34m\u001b[0m\u001b[0m\n",
            "\u001b[0;32m/usr/local/lib/python3.8/dist-packages/pandas/io/parsers/readers.py\u001b[0m in \u001b[0;36m_make_engine\u001b[0;34m(self, engine)\u001b[0m\n\u001b[1;32m   1038\u001b[0m             )\n\u001b[1;32m   1039\u001b[0m         \u001b[0;31m# error: Too many arguments for \"ParserBase\"\u001b[0m\u001b[0;34m\u001b[0m\u001b[0;34m\u001b[0m\u001b[0;34m\u001b[0m\u001b[0m\n\u001b[0;32m-> 1040\u001b[0;31m         \u001b[0;32mreturn\u001b[0m \u001b[0mmapping\u001b[0m\u001b[0;34m[\u001b[0m\u001b[0mengine\u001b[0m\u001b[0;34m]\u001b[0m\u001b[0;34m(\u001b[0m\u001b[0mself\u001b[0m\u001b[0;34m.\u001b[0m\u001b[0mf\u001b[0m\u001b[0;34m,\u001b[0m \u001b[0;34m**\u001b[0m\u001b[0mself\u001b[0m\u001b[0;34m.\u001b[0m\u001b[0moptions\u001b[0m\u001b[0;34m)\u001b[0m  \u001b[0;31m# type: ignore[call-arg]\u001b[0m\u001b[0;34m\u001b[0m\u001b[0;34m\u001b[0m\u001b[0m\n\u001b[0m\u001b[1;32m   1041\u001b[0m \u001b[0;34m\u001b[0m\u001b[0m\n\u001b[1;32m   1042\u001b[0m     \u001b[0;32mdef\u001b[0m \u001b[0m_failover_to_python\u001b[0m\u001b[0;34m(\u001b[0m\u001b[0mself\u001b[0m\u001b[0;34m)\u001b[0m\u001b[0;34m:\u001b[0m\u001b[0;34m\u001b[0m\u001b[0;34m\u001b[0m\u001b[0m\n",
            "\u001b[0;32m/usr/local/lib/python3.8/dist-packages/pandas/io/parsers/c_parser_wrapper.py\u001b[0m in \u001b[0;36m__init__\u001b[0;34m(self, src, **kwds)\u001b[0m\n\u001b[1;32m     49\u001b[0m \u001b[0;34m\u001b[0m\u001b[0m\n\u001b[1;32m     50\u001b[0m         \u001b[0;31m# open handles\u001b[0m\u001b[0;34m\u001b[0m\u001b[0;34m\u001b[0m\u001b[0;34m\u001b[0m\u001b[0m\n\u001b[0;32m---> 51\u001b[0;31m         \u001b[0mself\u001b[0m\u001b[0;34m.\u001b[0m\u001b[0m_open_handles\u001b[0m\u001b[0;34m(\u001b[0m\u001b[0msrc\u001b[0m\u001b[0;34m,\u001b[0m \u001b[0mkwds\u001b[0m\u001b[0;34m)\u001b[0m\u001b[0;34m\u001b[0m\u001b[0;34m\u001b[0m\u001b[0m\n\u001b[0m\u001b[1;32m     52\u001b[0m         \u001b[0;32massert\u001b[0m \u001b[0mself\u001b[0m\u001b[0;34m.\u001b[0m\u001b[0mhandles\u001b[0m \u001b[0;32mis\u001b[0m \u001b[0;32mnot\u001b[0m \u001b[0;32mNone\u001b[0m\u001b[0;34m\u001b[0m\u001b[0;34m\u001b[0m\u001b[0m\n\u001b[1;32m     53\u001b[0m \u001b[0;34m\u001b[0m\u001b[0m\n",
            "\u001b[0;32m/usr/local/lib/python3.8/dist-packages/pandas/io/parsers/base_parser.py\u001b[0m in \u001b[0;36m_open_handles\u001b[0;34m(self, src, kwds)\u001b[0m\n\u001b[1;32m    220\u001b[0m         \u001b[0mLet\u001b[0m \u001b[0mthe\u001b[0m \u001b[0mreaders\u001b[0m \u001b[0mopen\u001b[0m \u001b[0mIOHandles\u001b[0m \u001b[0mafter\u001b[0m \u001b[0mthey\u001b[0m \u001b[0mare\u001b[0m \u001b[0mdone\u001b[0m \u001b[0;32mwith\u001b[0m \u001b[0mtheir\u001b[0m \u001b[0mpotential\u001b[0m \u001b[0mraises\u001b[0m\u001b[0;34m.\u001b[0m\u001b[0;34m\u001b[0m\u001b[0;34m\u001b[0m\u001b[0m\n\u001b[1;32m    221\u001b[0m         \"\"\"\n\u001b[0;32m--> 222\u001b[0;31m         self.handles = get_handle(\n\u001b[0m\u001b[1;32m    223\u001b[0m             \u001b[0msrc\u001b[0m\u001b[0;34m,\u001b[0m\u001b[0;34m\u001b[0m\u001b[0;34m\u001b[0m\u001b[0m\n\u001b[1;32m    224\u001b[0m             \u001b[0;34m\"r\"\u001b[0m\u001b[0;34m,\u001b[0m\u001b[0;34m\u001b[0m\u001b[0;34m\u001b[0m\u001b[0m\n",
            "\u001b[0;32m/usr/local/lib/python3.8/dist-packages/pandas/io/common.py\u001b[0m in \u001b[0;36mget_handle\u001b[0;34m(path_or_buf, mode, encoding, compression, memory_map, is_text, errors, storage_options)\u001b[0m\n\u001b[1;32m    700\u001b[0m         \u001b[0;32mif\u001b[0m \u001b[0mioargs\u001b[0m\u001b[0;34m.\u001b[0m\u001b[0mencoding\u001b[0m \u001b[0;32mand\u001b[0m \u001b[0;34m\"b\"\u001b[0m \u001b[0;32mnot\u001b[0m \u001b[0;32min\u001b[0m \u001b[0mioargs\u001b[0m\u001b[0;34m.\u001b[0m\u001b[0mmode\u001b[0m\u001b[0;34m:\u001b[0m\u001b[0;34m\u001b[0m\u001b[0;34m\u001b[0m\u001b[0m\n\u001b[1;32m    701\u001b[0m             \u001b[0;31m# Encoding\u001b[0m\u001b[0;34m\u001b[0m\u001b[0;34m\u001b[0m\u001b[0;34m\u001b[0m\u001b[0m\n\u001b[0;32m--> 702\u001b[0;31m             handle = open(\n\u001b[0m\u001b[1;32m    703\u001b[0m                 \u001b[0mhandle\u001b[0m\u001b[0;34m,\u001b[0m\u001b[0;34m\u001b[0m\u001b[0;34m\u001b[0m\u001b[0m\n\u001b[1;32m    704\u001b[0m                 \u001b[0mioargs\u001b[0m\u001b[0;34m.\u001b[0m\u001b[0mmode\u001b[0m\u001b[0;34m,\u001b[0m\u001b[0;34m\u001b[0m\u001b[0;34m\u001b[0m\u001b[0m\n",
            "\u001b[0;31mFileNotFoundError\u001b[0m: [Errno 2] No such file or directory: '/content/drive/MyDrive/IPD/Crop_recommendation.csv'"
          ]
        }
      ]
    },
    {
      "cell_type": "code",
      "source": [
        "cropdf.shape"
      ],
      "metadata": {
        "execution": {
          "iopub.status.busy": "2021-10-03T08:53:04.025577Z",
          "iopub.execute_input": "2021-10-03T08:53:04.025806Z",
          "iopub.status.idle": "2021-10-03T08:53:04.032867Z",
          "shell.execute_reply.started": "2021-10-03T08:53:04.025779Z",
          "shell.execute_reply": "2021-10-03T08:53:04.031744Z"
        },
        "trusted": true,
        "id": "_mRP-pBqclzR"
      },
      "execution_count": null,
      "outputs": []
    },
    {
      "cell_type": "code",
      "source": [
        "cropdf.columns"
      ],
      "metadata": {
        "execution": {
          "iopub.status.busy": "2021-10-03T08:53:04.034758Z",
          "iopub.execute_input": "2021-10-03T08:53:04.035534Z",
          "iopub.status.idle": "2021-10-03T08:53:04.049166Z",
          "shell.execute_reply.started": "2021-10-03T08:53:04.035484Z",
          "shell.execute_reply": "2021-10-03T08:53:04.04837Z"
        },
        "trusted": true,
        "id": "Iusd85zLclzS"
      },
      "execution_count": null,
      "outputs": []
    },
    {
      "cell_type": "markdown",
      "source": [
        "###<h1 style='color:blue'>Check Null and NA values</h1>"
      ],
      "metadata": {
        "id": "qeVgZcsfclzS"
      }
    },
    {
      "cell_type": "code",
      "source": [
        "cropdf.isnull().any()"
      ],
      "metadata": {
        "execution": {
          "iopub.status.busy": "2021-10-03T08:53:04.050901Z",
          "iopub.execute_input": "2021-10-03T08:53:04.05118Z",
          "iopub.status.idle": "2021-10-03T08:53:04.06878Z",
          "shell.execute_reply.started": "2021-10-03T08:53:04.05113Z",
          "shell.execute_reply": "2021-10-03T08:53:04.067767Z"
        },
        "trusted": true,
        "id": "5im1yTLDclzT"
      },
      "execution_count": null,
      "outputs": []
    },
    {
      "cell_type": "markdown",
      "source": [
        "###<h1 style='color:blue'>List of various crops</h1>"
      ],
      "metadata": {
        "id": "C_NWqxaEclzU"
      }
    },
    {
      "cell_type": "code",
      "source": [
        "print(\"Number of various crops: \", len(cropdf['label'].unique()))\n",
        "print(\"List of crops: \", cropdf['label'].unique())"
      ],
      "metadata": {
        "execution": {
          "iopub.status.busy": "2021-10-03T08:53:04.070471Z",
          "iopub.execute_input": "2021-10-03T08:53:04.070854Z",
          "iopub.status.idle": "2021-10-03T08:53:04.086021Z",
          "shell.execute_reply.started": "2021-10-03T08:53:04.070822Z",
          "shell.execute_reply": "2021-10-03T08:53:04.08533Z"
        },
        "trusted": true,
        "id": "6zzgqGLVclzU"
      },
      "execution_count": null,
      "outputs": []
    },
    {
      "cell_type": "code",
      "source": [
        "cropdf['label'].value_counts()"
      ],
      "metadata": {
        "execution": {
          "iopub.status.busy": "2021-10-03T08:53:04.08685Z",
          "iopub.execute_input": "2021-10-03T08:53:04.087066Z",
          "iopub.status.idle": "2021-10-03T08:53:04.107811Z",
          "shell.execute_reply.started": "2021-10-03T08:53:04.087041Z",
          "shell.execute_reply": "2021-10-03T08:53:04.106811Z"
        },
        "trusted": true,
        "id": "eo4DLOHWclzV"
      },
      "execution_count": null,
      "outputs": []
    },
    {
      "cell_type": "code",
      "source": [
        "crop_summary = pd.pivot_table(cropdf,index=['label'],aggfunc='mean')\n",
        "crop_summary.head()"
      ],
      "metadata": {
        "execution": {
          "iopub.status.busy": "2021-10-03T08:53:04.109064Z",
          "iopub.execute_input": "2021-10-03T08:53:04.109445Z",
          "iopub.status.idle": "2021-10-03T08:53:04.150743Z",
          "shell.execute_reply.started": "2021-10-03T08:53:04.109413Z",
          "shell.execute_reply": "2021-10-03T08:53:04.149786Z"
        },
        "trusted": true,
        "id": "vfix3GKOclzW"
      },
      "execution_count": null,
      "outputs": []
    },
    {
      "cell_type": "markdown",
      "source": [
        "###<h1 style='color:blue'>Data Visualization and analysis</h1>"
      ],
      "metadata": {
        "id": "hcp_X9O8clzW"
      }
    },
    {
      "cell_type": "markdown",
      "source": [
        "<h3 style='color:red'>Nitrogen Analysis</h3>"
      ],
      "metadata": {
        "id": "AVQTElAHclzX"
      }
    },
    {
      "cell_type": "code",
      "source": [
        "crop_summary_N = crop_summary.sort_values(by='N', ascending=False)\n",
        "\n",
        "fig = make_subplots(rows=1, cols=2)\n",
        "\n",
        "top = {\n",
        "    'y' : crop_summary_N['N'][0:10].sort_values().index,\n",
        "    'x' : crop_summary_N['N'][0:10].sort_values()\n",
        "}\n",
        "\n",
        "last = {\n",
        "    'y' : crop_summary_N['N'][-10:].index,\n",
        "    'x' : crop_summary_N['N'][-10:]\n",
        "}\n",
        "\n",
        "fig.add_trace(\n",
        "    go.Bar(top,\n",
        "           name=\"Most nitrogen required\",\n",
        "           marker_color=random.choice(colorarr),\n",
        "           orientation='h',\n",
        "          text=top['x']),\n",
        "\n",
        "    row=1, col=1\n",
        ")\n",
        "\n",
        "fig.add_trace(\n",
        "    go.Bar(last,\n",
        "           name=\"Least nitrogen required\",\n",
        "           marker_color=random.choice(colorarr),\n",
        "           orientation='h',\n",
        "          text=last['x']),\n",
        "    row=1, col=2\n",
        ")\n",
        "fig.update_traces(texttemplate='%{text}', textposition='inside')\n",
        "fig.update_layout(title_text=\"Nitrogen (N)\",\n",
        "                  plot_bgcolor='white',\n",
        "                  font_size=12,\n",
        "                  font_color='black',\n",
        "                 height=500)\n",
        "\n",
        "fig.update_xaxes(showgrid=False)\n",
        "fig.update_yaxes(showgrid=False)\n",
        "fig.show()\n"
      ],
      "metadata": {
        "_kg_hide-input": false,
        "execution": {
          "iopub.status.busy": "2021-10-03T08:53:04.151893Z",
          "iopub.execute_input": "2021-10-03T08:53:04.1525Z",
          "iopub.status.idle": "2021-10-03T08:53:04.452706Z",
          "shell.execute_reply.started": "2021-10-03T08:53:04.152463Z",
          "shell.execute_reply": "2021-10-03T08:53:04.451879Z"
        },
        "trusted": true,
        "id": "mkYMruiQclzX"
      },
      "execution_count": null,
      "outputs": []
    },
    {
      "cell_type": "markdown",
      "source": [
        "<h3 style='color:red'>Phosphorus Analysis</h3>"
      ],
      "metadata": {
        "id": "YdZlE_-aclzY"
      }
    },
    {
      "cell_type": "code",
      "source": [
        "crop_summary_P = crop_summary.sort_values(by='P', ascending=False)\n",
        "\n",
        "fig = make_subplots(rows=1, cols=2)\n",
        "\n",
        "top = {\n",
        "    'y' : crop_summary_P['P'][0:10].sort_values().index,\n",
        "    'x' : crop_summary_P['P'][0:10].sort_values()\n",
        "}\n",
        "\n",
        "last = {\n",
        "    'y' : crop_summary_P['P'][-10:].index,\n",
        "    'x' : crop_summary_P['P'][-10:]\n",
        "}\n",
        "\n",
        "fig.add_trace(\n",
        "    go.Bar(top,\n",
        "           name=\"Most phosphorus required\",\n",
        "           marker_color=random.choice(colorarr),\n",
        "           orientation='h',\n",
        "          text=top['x']),\n",
        "\n",
        "    row=1, col=1\n",
        ")\n",
        "\n",
        "fig.add_trace(\n",
        "    go.Bar(last,\n",
        "           name=\"Least phosphorus required\",\n",
        "           marker_color=random.choice(colorarr),\n",
        "           orientation='h',\n",
        "          text=last['x']),\n",
        "    row=1, col=2\n",
        ")\n",
        "fig.update_traces(texttemplate='%{text}', textposition='inside')\n",
        "fig.update_layout(title_text=\"Phosphorus (P)\",\n",
        "                  plot_bgcolor='white',\n",
        "                  font_size=12,\n",
        "                  font_color='black',\n",
        "                 height=500)\n",
        "\n",
        "fig.update_xaxes(showgrid=False)\n",
        "fig.update_yaxes(showgrid=False)\n",
        "fig.show()\n"
      ],
      "metadata": {
        "execution": {
          "iopub.status.busy": "2021-10-03T08:53:04.455578Z",
          "iopub.execute_input": "2021-10-03T08:53:04.455828Z",
          "iopub.status.idle": "2021-10-03T08:53:04.510058Z",
          "shell.execute_reply.started": "2021-10-03T08:53:04.4558Z",
          "shell.execute_reply": "2021-10-03T08:53:04.509131Z"
        },
        "trusted": true,
        "id": "ye4VbrObclzZ"
      },
      "execution_count": null,
      "outputs": []
    },
    {
      "cell_type": "markdown",
      "source": [
        "<h3 style='color:Red'>Potassium analysis</h3>"
      ],
      "metadata": {
        "id": "XOTcyfLeclzZ"
      }
    },
    {
      "cell_type": "code",
      "source": [
        "crop_summary_K = crop_summary.sort_values(by='K', ascending=False)\n",
        "\n",
        "fig = make_subplots(rows=1, cols=2)\n",
        "\n",
        "top = {\n",
        "    'y' : crop_summary_K['K'][0:10].sort_values().index,\n",
        "    'x' : crop_summary_K['K'][0:10].sort_values()\n",
        "}\n",
        "\n",
        "last = {\n",
        "    'y' : crop_summary_K['K'][-10:].index,\n",
        "    'x' : crop_summary_K['K'][-10:]\n",
        "}\n",
        "\n",
        "fig.add_trace(\n",
        "    go.Bar(top,\n",
        "           name=\"Most potassium required\",\n",
        "           marker_color=random.choice(colorarr),\n",
        "           orientation='h',\n",
        "          text=top['x']),\n",
        "\n",
        "    row=1, col=1\n",
        ")\n",
        "\n",
        "fig.add_trace(\n",
        "    go.Bar(last,\n",
        "           name=\"Least potassium required\",\n",
        "           marker_color=random.choice(colorarr),\n",
        "           orientation='h',\n",
        "          text=last['x']),\n",
        "    row=1, col=2\n",
        ")\n",
        "fig.update_traces(texttemplate='%{text}', textposition='inside')\n",
        "fig.update_layout(title_text=\"Potassium (K)\",\n",
        "                  plot_bgcolor='white',\n",
        "                  font_size=12,\n",
        "                  font_color='black',\n",
        "                 height=500)\n",
        "\n",
        "fig.update_xaxes(showgrid=False)\n",
        "fig.update_yaxes(showgrid=False)\n",
        "fig.show()\n"
      ],
      "metadata": {
        "execution": {
          "iopub.status.busy": "2021-10-03T08:53:04.511338Z",
          "iopub.execute_input": "2021-10-03T08:53:04.511553Z",
          "iopub.status.idle": "2021-10-03T08:53:04.562721Z",
          "shell.execute_reply.started": "2021-10-03T08:53:04.511528Z",
          "shell.execute_reply": "2021-10-03T08:53:04.561881Z"
        },
        "trusted": true,
        "id": "PJ5uGEY2clza"
      },
      "execution_count": null,
      "outputs": []
    },
    {
      "cell_type": "markdown",
      "source": [
        "<h3 style='color:Red'>N, P, K values comparision between crops</h3>"
      ],
      "metadata": {
        "id": "rjnuxitnclza"
      }
    },
    {
      "cell_type": "code",
      "source": [
        "fig = go.Figure()\n",
        "fig.add_trace(go.Bar(\n",
        "    x=crop_summary.index,\n",
        "    y=crop_summary['N'],\n",
        "    name='Nitrogen',\n",
        "    marker_color='indianred'\n",
        "))\n",
        "fig.add_trace(go.Bar(\n",
        "    x=crop_summary.index,\n",
        "    y=crop_summary['P'],\n",
        "    name='Phosphorous',\n",
        "    marker_color='lightsalmon'\n",
        "))\n",
        "fig.add_trace(go.Bar(\n",
        "    x=crop_summary.index,\n",
        "    y=crop_summary['K'],\n",
        "    name='Potash',\n",
        "    marker_color='crimson'\n",
        "))\n",
        "\n",
        "fig.update_layout(title=\"N, P, K values comparision between crops\",\n",
        "                  plot_bgcolor='white',\n",
        "                  barmode='group',\n",
        "                  xaxis_tickangle=-45)\n",
        "\n",
        "fig.show()"
      ],
      "metadata": {
        "execution": {
          "iopub.status.busy": "2021-10-03T08:53:04.564056Z",
          "iopub.execute_input": "2021-10-03T08:53:04.564387Z",
          "iopub.status.idle": "2021-10-03T08:53:04.586937Z",
          "shell.execute_reply.started": "2021-10-03T08:53:04.564346Z",
          "shell.execute_reply": "2021-10-03T08:53:04.585873Z"
        },
        "trusted": true,
        "id": "96uEq1sUclzb"
      },
      "execution_count": null,
      "outputs": []
    },
    {
      "cell_type": "markdown",
      "source": [
        "<h3 style='color:Red'>NPK ratio for rice, cotton, jute, maize, lentil </h3>"
      ],
      "metadata": {
        "id": "_5P_lH3aclzb"
      }
    },
    {
      "cell_type": "code",
      "source": [
        "labels = ['Nitrogen(N)','Phosphorous(P)','Potash(K)']\n",
        "fig = make_subplots(rows=1, cols=5, specs=[[{'type':'domain'}, {'type':'domain'},\n",
        "                                            {'type':'domain'}, {'type':'domain'},\n",
        "                                            {'type':'domain'}]])\n",
        "\n",
        "rice_npk = crop_summary[crop_summary.index=='rice']\n",
        "values = [rice_npk['N'][0], rice_npk['P'][0], rice_npk['K'][0]]\n",
        "fig.add_trace(go.Pie(labels=labels, values=values,name=\"Rice\"),1, 1)\n",
        "\n",
        "cotton_npk = crop_summary[crop_summary.index=='cotton']\n",
        "values = [cotton_npk['N'][0], cotton_npk['P'][0], cotton_npk['K'][0]]\n",
        "fig.add_trace(go.Pie(labels=labels, values=values,name=\"Cotton\"),1, 2)\n",
        "\n",
        "jute_npk = crop_summary[crop_summary.index=='jute']\n",
        "values = [jute_npk['N'][0], jute_npk['P'][0], jute_npk['K'][0]]\n",
        "fig.add_trace(go.Pie(labels=labels, values=values,name=\"Jute\"),1, 3)\n",
        "\n",
        "maize_npk = crop_summary[crop_summary.index=='maize']\n",
        "values = [maize_npk['N'][0], maize_npk['P'][0], maize_npk['K'][0]]\n",
        "fig.add_trace(go.Pie(labels=labels, values=values,name=\"Maize\"),1, 4)\n",
        "\n",
        "lentil_npk = crop_summary[crop_summary.index=='lentil']\n",
        "values = [lentil_npk['N'][0], lentil_npk['P'][0], lentil_npk['K'][0]]\n",
        "fig.add_trace(go.Pie(labels=labels, values=values,name=\"Lentil\"),1, 5)\n",
        "\n",
        "fig.update_traces(hole=.4, hoverinfo=\"label+percent+name\")\n",
        "fig.update_layout(\n",
        "    title_text=\"NPK ratio for rice, cotton, jute, maize, lentil\",\n",
        "    annotations=[dict(text='Rice',x=0.06,y=0.8, font_size=15, showarrow=False),\n",
        "                 dict(text='Cotton',x=0.26,y=0.8, font_size=15, showarrow=False),\n",
        "                 dict(text='Jute',x=0.50,y=0.8, font_size=15, showarrow=False),\n",
        "                 dict(text='Maize',x=0.74,y=0.8, font_size=15, showarrow=False),\n",
        "                dict(text='Lentil',x=0.94,y=0.8, font_size=15, showarrow=False)])\n",
        "fig.show()\n"
      ],
      "metadata": {
        "execution": {
          "iopub.status.busy": "2021-10-03T08:53:04.588021Z",
          "iopub.execute_input": "2021-10-03T08:53:04.588259Z",
          "iopub.status.idle": "2021-10-03T08:53:04.685014Z",
          "shell.execute_reply.started": "2021-10-03T08:53:04.588232Z",
          "shell.execute_reply": "2021-10-03T08:53:04.68421Z"
        },
        "trusted": true,
        "id": "fAzv7OcWclzc"
      },
      "execution_count": null,
      "outputs": []
    },
    {
      "cell_type": "markdown",
      "source": [
        "<h3 style='color:Red'>NPK ratio for fruits</h3>"
      ],
      "metadata": {
        "id": "fg9Z_cAIclzd"
      }
    },
    {
      "cell_type": "code",
      "source": [
        "labels = ['Nitrogen(N)','Phosphorous(P)','Potash(K)']\n",
        "specs = [[{'type':'domain'}, {'type':'domain'}, {'type':'domain'}, {'type':'domain'}, {'type':'domain'}],[\n",
        "         {'type':'domain'}, {'type':'domain'}, {'type':'domain'}, {'type':'domain'}, {'type':'domain'}]]\n",
        "fig = make_subplots(rows=2, cols=5, specs=specs)\n",
        "cafe_colors =  ['rgb(255, 128, 0)', 'rgb(0, 153, 204)', 'rgb(173, 173, 133)']\n",
        "\n",
        "apple_npk = crop_summary[crop_summary.index=='apple']\n",
        "values = [apple_npk['N'][0], apple_npk['P'][0], apple_npk['K'][0]]\n",
        "fig.add_trace(go.Pie(labels=labels, values=values,name=\"Apple\", marker_colors=cafe_colors),1, 1)\n",
        "\n",
        "banana_npk = crop_summary[crop_summary.index=='banana']\n",
        "values = [banana_npk['N'][0], banana_npk['P'][0], banana_npk['K'][0]]\n",
        "fig.add_trace(go.Pie(labels=labels, values=values,name=\"Banana\", marker_colors=cafe_colors),1, 2)\n",
        "\n",
        "grapes_npk = crop_summary[crop_summary.index=='grapes']\n",
        "values = [grapes_npk['N'][0], grapes_npk['P'][0], grapes_npk['K'][0]]\n",
        "fig.add_trace(go.Pie(labels=labels, values=values,name=\"Grapes\", marker_colors=cafe_colors),1, 3)\n",
        "\n",
        "orange_npk = crop_summary[crop_summary.index=='orange']\n",
        "values = [orange_npk['N'][0], orange_npk['P'][0], orange_npk['K'][0]]\n",
        "fig.add_trace(go.Pie(labels=labels, values=values,name=\"Orange\", marker_colors=cafe_colors),1, 4)\n",
        "\n",
        "mango_npk = crop_summary[crop_summary.index=='mango']\n",
        "values = [mango_npk['N'][0], mango_npk['P'][0], mango_npk['K'][0]]\n",
        "fig.add_trace(go.Pie(labels=labels, values=values,name=\"Mango\", marker_colors=cafe_colors),1, 5)\n",
        "\n",
        "coconut_npk = crop_summary[crop_summary.index=='coconut']\n",
        "values = [coconut_npk['N'][0], coconut_npk['P'][0], coconut_npk['K'][0]]\n",
        "fig.add_trace(go.Pie(labels=labels, values=values,name=\"Coconut\", marker_colors=cafe_colors),2, 1)\n",
        "\n",
        "papaya_npk = crop_summary[crop_summary.index=='papaya']\n",
        "values = [papaya_npk['N'][0], papaya_npk['P'][0], papaya_npk['K'][0]]\n",
        "fig.add_trace(go.Pie(labels=labels, values=values,name=\"Papaya\", marker_colors=cafe_colors),2, 2)\n",
        "\n",
        "pomegranate_npk = crop_summary[crop_summary.index=='pomegranate']\n",
        "values = [pomegranate_npk['N'][0], pomegranate_npk['P'][0], pomegranate_npk['K'][0]]\n",
        "fig.add_trace(go.Pie(labels=labels, values=values,name=\"Pomegranate\", marker_colors=cafe_colors),2, 3)\n",
        "\n",
        "watermelon_npk = crop_summary[crop_summary.index=='watermelon']\n",
        "values = [watermelon_npk['N'][0], watermelon_npk['P'][0], watermelon_npk['K'][0]]\n",
        "fig.add_trace(go.Pie(labels=labels, values=values,name=\"Watermelon\", marker_colors=cafe_colors),2, 4)\n",
        "\n",
        "muskmelon_npk = crop_summary[crop_summary.index=='muskmelon']\n",
        "values = [muskmelon_npk['N'][0], muskmelon_npk['P'][0], muskmelon_npk['K'][0]]\n",
        "fig.add_trace(go.Pie(labels=labels, values=values,name=\"Muskmelon\", marker_colors=cafe_colors),2, 5)\n",
        "\n",
        "fig.update_layout(\n",
        "    title_text=\"NPK ratio for fruits\",\n",
        "    annotations=[dict(text='Apple',x=0.06,y=1.08, font_size=15, showarrow=False),\n",
        "                 dict(text='Banana',x=0.26,y=1.08, font_size=15, showarrow=False),\n",
        "                 dict(text='Grapes',x=0.50,y=1.08, font_size=15, showarrow=False),\n",
        "                 dict(text='Orange',x=0.74,y=1.08, font_size=15, showarrow=False),\n",
        "                dict(text='Mango',x=0.94,y=1.08, font_size=15, showarrow=False),\n",
        "                dict(text='Coconut',x=0.06,y=0.46, font_size=15, showarrow=False),\n",
        "                 dict(text='Papaya',x=0.26,y=0.46, font_size=15, showarrow=False),\n",
        "                 dict(text='Pomegranate',x=0.50,y=0.46, font_size=15, showarrow=False),\n",
        "                 dict(text='Watermelon',x=0.74,y=0.46, font_size=15, showarrow=False),\n",
        "                dict(text='Muskmelon',x=0.94,y=0.46, font_size=15, showarrow=False)])\n",
        "fig.show()\n"
      ],
      "metadata": {
        "execution": {
          "iopub.status.busy": "2021-10-03T08:53:04.686507Z",
          "iopub.execute_input": "2021-10-03T08:53:04.686958Z",
          "iopub.status.idle": "2021-10-03T08:53:04.771624Z",
          "shell.execute_reply.started": "2021-10-03T08:53:04.686917Z",
          "shell.execute_reply": "2021-10-03T08:53:04.770682Z"
        },
        "trusted": true,
        "id": "ktEaci4bclzd"
      },
      "execution_count": null,
      "outputs": []
    },
    {
      "cell_type": "code",
      "source": [
        "crop_scatter = cropdf[(cropdf['label']=='rice') |\n",
        "                      (cropdf['label']=='jute') |\n",
        "                      (cropdf['label']=='cotton') |\n",
        "                     (cropdf['label']=='maize') |\n",
        "                     (cropdf['label']=='lentil')]\n",
        "\n",
        "fig = px.scatter(crop_scatter, x=\"temperature\", y=\"humidity\", color=\"label\", symbol=\"label\")\n",
        "fig.update_layout(plot_bgcolor='white')\n",
        "fig.update_xaxes(showgrid=False)\n",
        "fig.update_yaxes(showgrid=False)\n",
        "\n",
        "fig.show()"
      ],
      "metadata": {
        "execution": {
          "iopub.status.busy": "2021-10-03T08:53:04.773001Z",
          "iopub.execute_input": "2021-10-03T08:53:04.773326Z",
          "iopub.status.idle": "2021-10-03T08:53:05.65346Z",
          "shell.execute_reply.started": "2021-10-03T08:53:04.773279Z",
          "shell.execute_reply": "2021-10-03T08:53:05.652446Z"
        },
        "trusted": true,
        "id": "-zO0J_ueclzd"
      },
      "execution_count": null,
      "outputs": []
    },
    {
      "cell_type": "code",
      "source": [
        "fig = px.bar(crop_summary, x=crop_summary.index, y=[\"rainfall\", \"temperature\", \"humidity\"])\n",
        "fig.update_layout(title_text=\"Comparision between rainfall, temerature and humidity\",\n",
        "                  plot_bgcolor='white',\n",
        "                 height=500)\n",
        "\n",
        "fig.update_xaxes(showgrid=False)\n",
        "fig.update_yaxes(showgrid=False)\n",
        "fig.show()"
      ],
      "metadata": {
        "execution": {
          "iopub.status.busy": "2021-10-03T08:53:05.654546Z",
          "iopub.execute_input": "2021-10-03T08:53:05.654765Z",
          "iopub.status.idle": "2021-10-03T08:53:05.747489Z",
          "shell.execute_reply.started": "2021-10-03T08:53:05.65474Z",
          "shell.execute_reply": "2021-10-03T08:53:05.746906Z"
        },
        "trusted": true,
        "id": "musmK8Bkclze"
      },
      "execution_count": null,
      "outputs": []
    },
    {
      "cell_type": "markdown",
      "source": [
        "<h3 style='color:Red'>Correlation between different features </h3>"
      ],
      "metadata": {
        "id": "fmrsLxruclze"
      }
    },
    {
      "cell_type": "code",
      "source": [
        "cropdf.head()"
      ],
      "metadata": {
        "id": "yM-flP6DpCCm"
      },
      "execution_count": null,
      "outputs": []
    },
    {
      "cell_type": "code",
      "source": [
        "fig, ax = plt.subplots(1, 1, figsize=(15, 9))\n",
        "sns.heatmap(cropdf.corr(), annot=True,cmap='Wistia' )\n",
        "ax.set(xlabel='features')\n",
        "ax.set(ylabel='features')\n",
        "\n",
        "plt.title('Correlation between different features', fontsize = 15, c='black')\n",
        "plt.show()"
      ],
      "metadata": {
        "execution": {
          "iopub.status.busy": "2021-10-03T08:53:05.748644Z",
          "iopub.execute_input": "2021-10-03T08:53:05.749058Z",
          "iopub.status.idle": "2021-10-03T08:53:06.321277Z",
          "shell.execute_reply.started": "2021-10-03T08:53:05.749016Z",
          "shell.execute_reply": "2021-10-03T08:53:06.32022Z"
        },
        "trusted": true,
        "id": "r01tVv3iclze"
      },
      "execution_count": null,
      "outputs": []
    },
    {
      "cell_type": "markdown",
      "source": [
        "<h1 style='color:blue'>Declare independent and target variables</h1>"
      ],
      "metadata": {
        "id": "665o0DxUclzf"
      }
    },
    {
      "cell_type": "code",
      "source": [
        "X = cropdf.drop('label', axis=1)\n",
        "y = cropdf['label']"
      ],
      "metadata": {
        "execution": {
          "iopub.status.busy": "2021-10-03T08:53:06.322599Z",
          "iopub.execute_input": "2021-10-03T08:53:06.3229Z",
          "iopub.status.idle": "2021-10-03T08:53:06.3287Z",
          "shell.execute_reply.started": "2021-10-03T08:53:06.322868Z",
          "shell.execute_reply": "2021-10-03T08:53:06.327738Z"
        },
        "trusted": true,
        "id": "6keSf9-Lclzf"
      },
      "execution_count": null,
      "outputs": []
    },
    {
      "cell_type": "markdown",
      "source": [
        "<h1 style='color:blue'>Split dataset into training and test set</h1>"
      ],
      "metadata": {
        "id": "yZ_rWCATclzf"
      }
    },
    {
      "cell_type": "code",
      "source": [
        "from sklearn.model_selection import train_test_split\n",
        "X_train, X_test, y_train, y_test = train_test_split(X, y, test_size = 0.3,\n",
        "                                                    shuffle = True, random_state = 0)"
      ],
      "metadata": {
        "execution": {
          "iopub.status.busy": "2021-10-03T08:53:06.330339Z",
          "iopub.execute_input": "2021-10-03T08:53:06.331206Z",
          "iopub.status.idle": "2021-10-03T08:53:06.513542Z",
          "shell.execute_reply.started": "2021-10-03T08:53:06.331112Z",
          "shell.execute_reply": "2021-10-03T08:53:06.512547Z"
        },
        "trusted": true,
        "id": "_2LtSyuYclzf"
      },
      "execution_count": null,
      "outputs": []
    },
    {
      "cell_type": "markdown",
      "source": [
        "###MODELS###"
      ],
      "metadata": {
        "id": "LdUdnhc5kyD6"
      }
    },
    {
      "cell_type": "markdown",
      "source": [
        "## <h1 style='color:blue'>LightGBM</h1>"
      ],
      "metadata": {
        "execution": {
          "iopub.status.busy": "2021-09-19T12:16:20.708318Z",
          "iopub.execute_input": "2021-09-19T12:16:20.708652Z",
          "iopub.status.idle": "2021-09-19T12:16:20.715198Z",
          "shell.execute_reply.started": "2021-09-19T12:16:20.708621Z",
          "shell.execute_reply": "2021-09-19T12:16:20.714015Z"
        },
        "id": "KVI-ekHlclzg"
      }
    },
    {
      "cell_type": "code",
      "source": [
        "import lightgbm as lgb\n",
        "\n",
        "lgbm = lgb.LGBMClassifier()\n",
        "lgbm = lgbm.fit(X_train, y_train)"
      ],
      "metadata": {
        "execution": {
          "iopub.status.busy": "2021-10-03T08:53:06.514703Z",
          "iopub.execute_input": "2021-10-03T08:53:06.515535Z",
          "iopub.status.idle": "2021-10-03T08:53:08.167436Z",
          "shell.execute_reply.started": "2021-10-03T08:53:06.515493Z",
          "shell.execute_reply": "2021-10-03T08:53:08.166446Z"
        },
        "trusted": true,
        "id": "1IVwh1uVclzg"
      },
      "execution_count": null,
      "outputs": []
    },
    {
      "cell_type": "code",
      "source": [
        "y_pred_lgbm=lgbm.predict(X_test)"
      ],
      "metadata": {
        "execution": {
          "iopub.status.busy": "2021-10-03T08:53:08.168646Z",
          "iopub.execute_input": "2021-10-03T08:53:08.168884Z",
          "iopub.status.idle": "2021-10-03T08:53:08.209424Z",
          "shell.execute_reply.started": "2021-10-03T08:53:08.168857Z",
          "shell.execute_reply": "2021-10-03T08:53:08.208407Z"
        },
        "trusted": true,
        "id": "vuVycfdOclzh"
      },
      "execution_count": null,
      "outputs": []
    },
    {
      "cell_type": "code",
      "source": [
        "from sklearn.metrics import accuracy_score\n",
        "\n",
        "accuracy=accuracy_score(y_pred_lgbm, y_test)\n",
        "accuracy"
      ],
      "metadata": {
        "execution": {
          "iopub.status.busy": "2021-10-03T08:53:08.210738Z",
          "iopub.execute_input": "2021-10-03T08:53:08.211561Z",
          "iopub.status.idle": "2021-10-03T08:53:08.219638Z",
          "shell.execute_reply.started": "2021-10-03T08:53:08.211521Z",
          "shell.execute_reply": "2021-10-03T08:53:08.218985Z"
        },
        "trusted": true,
        "id": "3Jh9Ud-Sclzh"
      },
      "execution_count": null,
      "outputs": []
    },
    {
      "cell_type": "markdown",
      "source": [
        "### <h1 style='color:blue'>Confusion-matrix</h1>"
      ],
      "metadata": {
        "id": "17WeBdD7clzi"
      }
    },
    {
      "cell_type": "code",
      "source": [
        "from sklearn.metrics import confusion_matrix\n",
        "cm = confusion_matrix(y_test, y_pred_lgbm)\n",
        "\n",
        "plt.figure(figsize=(15,15))\n",
        "sns.heatmap(cm, annot=True, fmt=\".0f\", linewidths=.5, square = True, cmap = 'Blues');\n",
        "plt.ylabel('Actual label');\n",
        "plt.xlabel('Predicted label');\n",
        "all_sample_title = 'Confusion Matrix - score:'+str(accuracy_score(y_test,y_pred_lgbm))\n",
        "plt.title(all_sample_title, size = 15);\n",
        "plt.show()"
      ],
      "metadata": {
        "execution": {
          "iopub.status.busy": "2021-10-03T08:53:08.441822Z",
          "iopub.execute_input": "2021-10-03T08:53:08.442437Z",
          "iopub.status.idle": "2021-10-03T08:53:10.650801Z",
          "shell.execute_reply.started": "2021-10-03T08:53:08.442395Z",
          "shell.execute_reply": "2021-10-03T08:53:10.649662Z"
        },
        "trusted": true,
        "id": "MXJ0RWqEclzi"
      },
      "execution_count": null,
      "outputs": []
    },
    {
      "cell_type": "markdown",
      "source": [
        "### <h1 style='color:blue'>Classification Metrices</h1>"
      ],
      "metadata": {
        "id": "U3SWQ34Gclzj"
      }
    },
    {
      "cell_type": "code",
      "source": [
        "from sklearn.metrics import classification_report\n",
        "print(classification_report(y_test, y_pred_lgbm))"
      ],
      "metadata": {
        "execution": {
          "iopub.status.busy": "2021-10-03T08:53:10.651946Z",
          "iopub.execute_input": "2021-10-03T08:53:10.652191Z",
          "iopub.status.idle": "2021-10-03T08:53:10.691621Z",
          "shell.execute_reply.started": "2021-10-03T08:53:10.652162Z",
          "shell.execute_reply": "2021-10-03T08:53:10.690594Z"
        },
        "trusted": true,
        "id": "043l0k50clzj"
      },
      "execution_count": null,
      "outputs": []
    },
    {
      "cell_type": "code",
      "source": [
        "newdata=lgbm.predict([[90, 42, 43, 20.879744, 75, 5.5,220]])\n",
        "newdata"
      ],
      "metadata": {
        "execution": {
          "iopub.status.busy": "2021-10-03T08:53:10.692823Z",
          "iopub.execute_input": "2021-10-03T08:53:10.693073Z",
          "iopub.status.idle": "2021-10-03T08:53:10.705786Z",
          "shell.execute_reply.started": "2021-10-03T08:53:10.693044Z",
          "shell.execute_reply": "2021-10-03T08:53:10.705116Z"
        },
        "trusted": true,
        "id": "0cWXZ6Qeclzj"
      },
      "execution_count": null,
      "outputs": []
    },
    {
      "cell_type": "markdown",
      "source": [
        "## <h1 style='color:blue'>Decision Tree</h1>"
      ],
      "metadata": {
        "id": "AbL1U68KaCmw"
      }
    },
    {
      "cell_type": "code",
      "source": [
        "from sklearn.tree import DecisionTreeClassifier\n",
        "dt = DecisionTreeClassifier(random_state=0)"
      ],
      "metadata": {
        "id": "WlON6BrmWiqn"
      },
      "execution_count": null,
      "outputs": []
    },
    {
      "cell_type": "code",
      "source": [
        "dt = dt.fit(X_train, y_train)"
      ],
      "metadata": {
        "id": "YpEnng3iYzAl"
      },
      "execution_count": null,
      "outputs": []
    },
    {
      "cell_type": "code",
      "source": [
        "y_pred_dt = dt.predict(X_test)"
      ],
      "metadata": {
        "id": "lNnRwluDaviB"
      },
      "execution_count": null,
      "outputs": []
    },
    {
      "cell_type": "code",
      "source": [
        "from sklearn.metrics import accuracy_score\n",
        "\n",
        "\n",
        "acc_dt = accuracy_score(y_test,y_pred_dt)"
      ],
      "metadata": {
        "id": "RUOYfyklZAcJ"
      },
      "execution_count": null,
      "outputs": []
    },
    {
      "cell_type": "code",
      "source": [
        "acc_dt"
      ],
      "metadata": {
        "id": "U_rMaZ69bE4P"
      },
      "execution_count": null,
      "outputs": []
    },
    {
      "cell_type": "markdown",
      "source": [
        "## <h1 style='color:blue'>Naive Bayes</h1>"
      ],
      "metadata": {
        "id": "YpOP3b8-dGj5"
      }
    },
    {
      "cell_type": "code",
      "source": [
        "from sklearn.naive_bayes import GaussianNB\n",
        "gb = GaussianNB()"
      ],
      "metadata": {
        "id": "VIBGBpNydJWa"
      },
      "execution_count": null,
      "outputs": []
    },
    {
      "cell_type": "code",
      "source": [
        "gb = gb.fit(X_train,y_train)"
      ],
      "metadata": {
        "id": "8bCpt8h9ddrn"
      },
      "execution_count": null,
      "outputs": []
    },
    {
      "cell_type": "code",
      "source": [
        "y_pred_gb = gb.predict(X_test)"
      ],
      "metadata": {
        "id": "h5hmDJD5djNY"
      },
      "execution_count": null,
      "outputs": []
    },
    {
      "cell_type": "code",
      "source": [
        "from sklearn.metrics import accuracy_score\n",
        "acc_gb = accuracy_score(y_test,y_pred_gb)"
      ],
      "metadata": {
        "id": "maa8eYsTdrOu"
      },
      "execution_count": null,
      "outputs": []
    },
    {
      "cell_type": "code",
      "source": [
        "acc_gb"
      ],
      "metadata": {
        "id": "yHnjRlCTdwhC"
      },
      "execution_count": null,
      "outputs": []
    },
    {
      "cell_type": "markdown",
      "source": [
        "## <h1 style='color:blue'>SVM</h1>"
      ],
      "metadata": {
        "id": "YblPjqMdySE0"
      }
    },
    {
      "cell_type": "code",
      "source": [
        "from sklearn import svm\n",
        "SVM = svm.SVC()"
      ],
      "metadata": {
        "id": "_8KgHPrnyTqm"
      },
      "execution_count": null,
      "outputs": []
    },
    {
      "cell_type": "code",
      "source": [
        "SVM = SVM.fit(X_train,y_train)"
      ],
      "metadata": {
        "id": "LzkUpuiMyz8n"
      },
      "execution_count": null,
      "outputs": []
    },
    {
      "cell_type": "code",
      "source": [
        "y_pred_svm = SVM.predict(X_test)"
      ],
      "metadata": {
        "id": "e0X7X20Ry_Is"
      },
      "execution_count": null,
      "outputs": []
    },
    {
      "cell_type": "code",
      "source": [
        "accuracy_score(y_test,y_pred_svm)"
      ],
      "metadata": {
        "id": "r95QES_-zEoe"
      },
      "execution_count": null,
      "outputs": []
    },
    {
      "cell_type": "code",
      "source": [
        "SVM"
      ],
      "metadata": {
        "id": "OK4RQdjSzxkc"
      },
      "execution_count": null,
      "outputs": []
    },
    {
      "cell_type": "markdown",
      "source": [
        "## <h1 color=\"blue\">Ensmeble Model of LightGBM, DecisionTree and Naive Bayes</h1>"
      ],
      "metadata": {
        "id": "LC1LT03Vc5rx"
      }
    },
    {
      "cell_type": "code",
      "source": [
        "from sklearn.ensemble import VotingClassifier\n",
        "clf1 = lgbm\n",
        "clf2 = dt\n",
        "clf3 = gb\n",
        "\n",
        "eclf1 = VotingClassifier(estimators=[('lgbm', clf1), ('dt', clf2), ('gb', clf3)], voting='hard')\n",
        "eclf1 = eclf1.fit(X_train, y_train)\n",
        "y_pred_eclf = eclf1.predict(X_test)\n"
      ],
      "metadata": {
        "id": "Mspbv8uzbPn5"
      },
      "execution_count": null,
      "outputs": []
    },
    {
      "cell_type": "code",
      "source": [
        "ensemble_accuracy = accuracy_score(y_test,y_pred_eclf)"
      ],
      "metadata": {
        "id": "5dqj3fHrcGVq"
      },
      "execution_count": null,
      "outputs": []
    },
    {
      "cell_type": "code",
      "source": [
        "ensemble_accuracy"
      ],
      "metadata": {
        "id": "YLWvE3QEccP1"
      },
      "execution_count": null,
      "outputs": []
    },
    {
      "cell_type": "code",
      "source": [
        "eclf1.predict(X_test[:25])"
      ],
      "metadata": {
        "id": "i_cthG4Aqavg"
      },
      "execution_count": null,
      "outputs": []
    },
    {
      "cell_type": "code",
      "source": [
        "new = eclf1.predict([[90, 42, 43, 20.879744, 75, 5.5,220]])\n",
        "new"
      ],
      "metadata": {
        "id": "Qw0uuMkDcem1"
      },
      "execution_count": null,
      "outputs": []
    },
    {
      "cell_type": "markdown",
      "source": [
        "## <h1 style='color:blue'>Ensemble Model of Decision Tree, SVM and Naive Bayes</h1>"
      ],
      "metadata": {
        "id": "7mGhmcXMzbsG"
      }
    },
    {
      "cell_type": "code",
      "source": [
        "from sklearn.ensemble import VotingClassifier\n",
        "clf1 = SVM\n",
        "clf2 = dt\n",
        "clf3 = gb\n",
        "\n",
        "eclf2 = VotingClassifier(estimators=[('svm', clf1), ('dt', clf2), ('gb', clf3)], voting='hard')\n",
        "eclf2 = eclf2.fit(X_train, y_train)\n",
        "y_pred_eclf2 = eclf2.predict(X_test)"
      ],
      "metadata": {
        "id": "gbxzZoYXzjAA"
      },
      "execution_count": null,
      "outputs": []
    },
    {
      "cell_type": "code",
      "source": [
        "accuracy_score(y_test,y_pred_eclf2)"
      ],
      "metadata": {
        "id": "hTM0NKjUzu0p"
      },
      "execution_count": null,
      "outputs": []
    },
    {
      "cell_type": "markdown",
      "source": [
        "* So , we can see that the ensemble model of LightGBM, Decision Tree and Naive Bayes gives better accuracy tha ensemble model of Decision Tree, SVM and Naive Bayes."
      ],
      "metadata": {
        "id": "Dt91t8GY0qMC"
      }
    }
  ]
}